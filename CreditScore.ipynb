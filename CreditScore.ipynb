{
  "nbformat": 4,
  "nbformat_minor": 5,
  "metadata": {
    "kernel_info": {
      "name": "python3"
    },
    "kernelspec": {
      "display_name": "Python 3.9",
      "identifier": "legacy",
      "language": "python",
      "language_version": "3.9",
      "name": "python3"
    },
    "selected_hardware_size": "small"
  },
  "cells": [
    {
      "id": "4607c133",
      "cell_type": "code",
      "metadata": {
        "noteable": {
          "output_collection_id": "7387d628-e96c-4a6b-afe4-cb6012612849"
        },
        "ExecuteTime": {
          "end_time": "2023-11-30T01:22:09.534823+00:00",
          "start_time": "2023-11-30T01:22:09.313004+00:00"
        }
      },
      "execution_count": null,
      "source": "import pandas as pd\nimport numpy as np\nimport plotly.express as px\nimport plotly.graph_objects as go\nimport plotly.io as pio",
      "outputs": []
    },
    {
      "id": "5441ec96-16ff-47d8-adc1-b0c725b837c5",
      "cell_type": "code",
      "metadata": {
        "jupyter": {
          "outputs_hidden": false,
          "source_hidden": false
        },
        "noteable": {
          "cell_type": "code",
          "output_collection_id": "89210f6c-165f-4f7e-b922-87bef54b08b2"
        },
        "ExecuteTime": {
          "end_time": "2023-11-30T01:22:11.534260+00:00",
          "start_time": "2023-11-30T01:22:10.811239+00:00"
        }
      },
      "execution_count": null,
      "source": "pio.templates.default = \"plotly_white\"\ndata = pd.read_csv(\"train.csv\")",
      "outputs": []
    },
    {
      "id": "bb97cae1-cb07-4638-9f4a-4bc2f5cae8e1",
      "cell_type": "markdown",
      "source": "**Credit Score Based on Occupation**",
      "metadata": {
        "noteable": {
          "cell_type": "markdown"
        }
      }
    },
    {
      "id": "5b2dda49-226b-431e-9567-29518744523e",
      "cell_type": "code",
      "metadata": {
        "jupyter": {
          "outputs_hidden": false,
          "source_hidden": false
        },
        "noteable": {
          "cell_type": "code",
          "output_collection_id": "4e1c8212-628c-4838-a293-c5d35c077e6b"
        },
        "ExecuteTime": {
          "end_time": "2023-11-29T23:00:50.964597+00:00",
          "start_time": "2023-11-29T23:00:50.142086+00:00"
        }
      },
      "execution_count": null,
      "source": "print(data.head())\nprint(data.info())\nprint(data.isnull().sum())\nfig = px.box(data,\n            x=\"Occupation\",\n            color = \"Credit_Score\",\n            title = \"Credit Scores Based on Occupation\",\n            color_discrete_map = {'Poor': 'red',\n                                 'Standard': 'yellow',\n                                 'Good': 'green'})\n\nfig.update_traces(quartilemethod = \"exclusive\")\nfig.show()",
      "outputs": []
    },
    {
      "id": "d9bd8a21-c5da-4029-a6e0-f86d48284fcc",
      "cell_type": "markdown",
      "source": "**Credit Score Based on Annual Income**",
      "metadata": {
        "noteable": {
          "cell_type": "markdown"
        }
      }
    },
    {
      "id": "c8b71cff-8252-4451-bf6c-1aa410396b28",
      "cell_type": "code",
      "metadata": {
        "noteable": {
          "cell_type": "python",
          "output_collection_id": "269e8564-f4ec-4d8f-921b-89ee65e717ab"
        },
        "ExecuteTime": {
          "end_time": "2023-11-29T21:46:07.694931+00:00",
          "start_time": "2023-11-29T21:46:07.048167+00:00"
        }
      },
      "execution_count": null,
      "source": "fig = px.box(data,\n            x = \"Credit_Score\",\n            y = \"Annual_Income\",\n            color = \"Credit_Score\",\n            title = \"Credit Scores Based on Annual Income\",\n            color_discrete_map = {'Poor': 'red',\n                                 'Standard': 'yellow',\n                                 'Good': 'green'})\nfig.update_traces(quartilemethod = \"exclusive\")\nfig.show()",
      "outputs": []
    },
    {
      "id": "5be64a5d-3fc4-445a-802e-7831ad61ba74",
      "cell_type": "markdown",
      "source": "**Credit Scores Based on Montly Inhand Salary**",
      "metadata": {
        "noteable": {
          "cell_type": "markdown"
        }
      }
    },
    {
      "id": "156a7557-0654-4f00-9cc2-699d93bca971",
      "cell_type": "code",
      "metadata": {
        "noteable": {
          "cell_type": "python",
          "output_collection_id": "a3266b66-e4fb-4945-ba9e-cd21495515f0"
        },
        "ExecuteTime": {
          "end_time": "2023-11-29T22:10:11.159279+00:00",
          "start_time": "2023-11-29T22:10:10.445186+00:00"
        }
      },
      "execution_count": null,
      "source": "fig = px.box(data,\n            x = \"Credit_Score\",\n            y = \"Monthly_Inhand_Salary\",\n            color = \"Credit_Score\",\n            title = \"Credit Scores Based on Monthly Inhand Salaray\",\n            color_discrete_map = {'Poor': 'red',\n                                 'Standard': 'yellow',\n                                 'Good': 'green'})\nfig.update_traces(quartilemethod = \"exclusive\")\nfig.show()",
      "outputs": []
    },
    {
      "id": "cba5d751-69be-4b79-82c7-36284507e3c3",
      "cell_type": "markdown",
      "source": "**Credit Scores Based on Number of Bank Accounts**",
      "metadata": {
        "noteable": {
          "cell_type": "markdown"
        }
      }
    },
    {
      "id": "fd32f199-f797-41a0-854e-bf6b9a9da7c3",
      "cell_type": "code",
      "metadata": {
        "noteable": {
          "cell_type": "python",
          "output_collection_id": "5e367429-4b52-4f22-a9f4-ac65e1a6e629"
        },
        "ExecuteTime": {
          "end_time": "2023-11-29T23:01:14.630006+00:00",
          "start_time": "2023-11-29T23:01:13.872701+00:00"
        }
      },
      "execution_count": null,
      "source": "fig = px.box(data,\n            x = \"Credit_Score\",\n            y = \"Num_Credit_Card\",\n            color = \"Credit_Score\",\n            title = \"Credit Scores Based on Number of Credit cards\",\n            color_discrete_map = {'Poor': 'red',\n                                 'Standard': 'yellow',\n                                 'Good': 'green'})\nfig.update_traces(quartilemethod = \"exclusive\")\nfig.show()",
      "outputs": []
    },
    {
      "id": "e36086f2-c6f9-4467-a2cd-75ccc5c0ddaf",
      "cell_type": "markdown",
      "source": "**Credit Scores Based on the Average Interest rates**",
      "metadata": {
        "noteable": {
          "cell_type": "markdown"
        }
      }
    },
    {
      "id": "10cdf2c7-14d3-45e7-b46a-30d32a6c724f",
      "cell_type": "code",
      "metadata": {
        "noteable": {
          "cell_type": "python",
          "output_collection_id": "c96bfec2-6f3e-4dee-a17e-fb0cf926381b"
        },
        "ExecuteTime": {
          "end_time": "2023-11-30T00:40:08.116730+00:00",
          "start_time": "2023-11-30T00:40:07.368861+00:00"
        }
      },
      "execution_count": null,
      "source": "fig = px.box(data,\n            x = \"Credit_Score\",\n            y = \"Interest_Rate\",\n            color = \"Credit_Score\",\n            title = \"Credit Scores Based on the Average Interest rates\",\n            color_discrete_map = {'Poor': 'red',\n                                 'Standard': 'yellow',\n                                 'Good': 'green'})\nfig.update_traces(quartilemethod = \"exclusive\")\nfig.show()",
      "outputs": []
    },
    {
      "id": "b063798e-6671-4bfd-b62e-7c0bd6e594a0",
      "cell_type": "markdown",
      "source": "**Credit Score Classification Model**",
      "metadata": {
        "noteable": {
          "cell_type": "markdown"
        }
      }
    },
    {
      "id": "54d077ca-af4d-4190-a3be-4ca1644e5ab1",
      "cell_type": "code",
      "metadata": {
        "noteable": {
          "cell_type": "python",
          "output_collection_id": "2e7fa97c-3315-40e8-9756-bcca4852f614"
        },
        "ExecuteTime": {
          "end_time": "2023-11-30T01:22:16.086697+00:00",
          "start_time": "2023-11-30T01:22:15.915383+00:00"
        }
      },
      "execution_count": null,
      "source": "data[\"Credit_Mix\"] = data[\"Credit_Mix\"].map({\"Standard\": 1, \n                                            \"Good\": 2,\n                                            \"Bad\": 0})",
      "outputs": []
    },
    {
      "id": "e0674c3d-1515-4fdb-8056-bcf6300c9f4c",
      "cell_type": "code",
      "metadata": {
        "jupyter": {
          "outputs_hidden": false,
          "source_hidden": false
        },
        "noteable": {
          "cell_type": "code",
          "output_collection_id": "d2ba80fe-9c11-4b71-be87-7e1d7e98d303"
        },
        "ExecuteTime": {
          "end_time": "2023-11-30T01:26:22.158160+00:00",
          "start_time": "2023-11-30T01:26:21.759554+00:00"
        }
      },
      "execution_count": null,
      "source": "from sklearn.model_selection import train_test_split\nx = np.array(data[[\"Annual_Income\", \"Monthly_Inhand_Salary\", \n                   \"Num_Bank_Accounts\", \"Num_Credit_Card\", \n                   \"Interest_Rate\", \"Num_of_Loan\", \n                   \"Delay_from_due_date\", \"Num_of_Delayed_Payment\", \n                   \"Credit_Mix\", \"Outstanding_Debt\", \n                   \"Credit_History_Age\", \"Monthly_Balance\"]])\ny = np.array(data[[\"Credit_Score\"]])",
      "outputs": []
    },
    {
      "id": "a29a4f8e-daea-4ee4-b699-5b8b10432b83",
      "cell_type": "code",
      "metadata": {
        "jupyter": {
          "outputs_hidden": false,
          "source_hidden": false
        },
        "noteable": {
          "cell_type": "code",
          "output_collection_id": "6fb76455-ebff-4542-9a25-62ab60c20499"
        },
        "ExecuteTime": {
          "end_time": "2023-11-30T01:30:41.996924+00:00",
          "start_time": "2023-11-30T01:30:27.026740+00:00"
        }
      },
      "execution_count": null,
      "source": "xtrain, xtest, ytrain, ytest = train_test_split(x,y,\n                                               test_size = 0.33,\n                                               random_state = 42)\nfrom sklearn.ensemble import RandomForestClassifier\nmodel = RandomForestClassifier()\nmodel.fit(xtrain, ytrain)",
      "outputs": []
    },
    {
      "id": "c674c66f-77cf-4936-846c-64bc98e5b194",
      "cell_type": "code",
      "metadata": {
        "jupyter": {
          "outputs_hidden": false,
          "source_hidden": false
        },
        "noteable": {
          "cell_type": "code",
          "output_collection_id": "c4f9183d-2260-4b40-8edf-90ffd4de4e46"
        },
        "ExecuteTime": null
      },
      "execution_count": null,
      "source": "print(\"Credit Score Prediction : \")\na = float(input(\"Annual Income: \"))\nb = float(input(\"Monthly Inhand Salary: \"))\nc = float(input(\"Number of Bank Accounts: \"))\nd = float(input(\"Number of Credit cards: \"))\ne = float(input(\"Interest rate: \"))\nf = float(input(\"Number of Loans: \"))\ng = float(input(\"Average number of days delayed by the person: \"))\nh = float(input(\"Number of delayed payments: \"))\ni = input(\"Credit Mix (Bad: 0, Standard: 1, Good: 3) : \")\nj = float(input(\"Outstanding Debt: \"))\nk = float(input(\"Credit History Age: \"))\nl = float(input(\"Monthly Balance: \"))\n\nfeatures = np.array([[a, b, c, d, e, f, g, h, i, j, k, l]])\nprint(\"Predicted Credit Score = \", model.predict(features))",
      "outputs": []
    }
  ]
}