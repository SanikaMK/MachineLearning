{
  "cells": [
    {
      "cell_type": "code",
      "execution_count": null,
      "id": "f1fe943d",
      "metadata": {
        "ExecuteTime": {
          "end_time": "2023-12-11T22:25:57.070370+00:00",
          "start_time": "2023-12-11T22:25:56.795207+00:00"
        },
        "noteable": {},
        "tags": [
          "show_line_numbers"
        ]
      },
      "outputs": [],
      "source": [
        "import pandas as pd\n",
        "import numpy as np\n",
        "import plotly.express as px\n",
        "\n",
        "data = pd.read_csv(\"deliverytime.txt\")\n",
        "print(data.head())"
      ]
    },
    {
      "cell_type": "code",
      "execution_count": null,
      "id": "bad645c0-9aa0-459d-901e-20817fd58e3c",
      "metadata": {
        "ExecuteTime": {
          "end_time": "2023-12-11T22:26:00.760731+00:00",
          "start_time": "2023-12-11T22:26:00.587486+00:00"
        },
        "jupyter": {
          "outputs_hidden": false,
          "source_hidden": false
        },
        "noteable": {
          "cell_type": "code"
        },
        "tags": [
          "show_line_numbers"
        ]
      },
      "outputs": [],
      "source": [
        "data.info()"
      ]
    },
    {
      "cell_type": "code",
      "execution_count": null,
      "id": "03bdb16b-a627-4141-aec0-534ae88f81ed",
      "metadata": {
        "ExecuteTime": {
          "end_time": "2023-12-11T22:26:04.807586+00:00",
          "start_time": "2023-12-11T22:26:04.508238+00:00"
        },
        "datalink": {
          "0063f47f-aa07-4d04-b262-5234fa7fc05f": {
            "applied_filters": [],
            "dataframe_info": {
              "default_index_used": true,
              "orig_num_cols": 11,
              "orig_num_rows": 45593,
              "orig_size_bytes": 866267,
              "truncated_num_cols": 11,
              "truncated_num_rows": 45593,
              "truncated_size_bytes": 866267,
              "truncated_string_columns": []
            },
            "display_id": "0063f47f-aa07-4d04-b262-5234fa7fc05f",
            "dx_settings": {
              "ALLOW_NOTEABLE_ATTRS": true,
              "COLUMN_SAMPLING_METHOD": "outer",
              "DB_LOCATION": ":memory:",
              "DEV_MODE": false,
              "DISPLAY_MAX_COLUMNS": 100,
              "DISPLAY_MAX_ROWS": 50000,
              "DISPLAY_MODE": "simple",
              "ENABLE_ASSIGNMENT": true,
              "ENABLE_DATALINK": true,
              "FLATTEN_COLUMN_VALUES": true,
              "FLATTEN_INDEX_VALUES": false,
              "GENERATE_DEX_METADATA": false,
              "HTML_TABLE_SCHEMA": false,
              "LOG_LEVEL": 30,
              "MAX_RENDER_SIZE_BYTES": 104857600,
              "MAX_STRING_LENGTH": 250,
              "NUM_PAST_SAMPLES_TRACKED": 3,
              "RANDOM_STATE": 12648430,
              "RESET_INDEX_VALUES": false,
              "ROW_SAMPLING_METHOD": "random",
              "SAMPLING_FACTOR": 0.1,
              "SAMPLING_METHOD": "random",
              "STRINGIFY_COLUMN_VALUES": true,
              "STRINGIFY_INDEX_VALUES": false
            },
            "sample_history": [],
            "sampling_time": "2023-12-06T00:12:36.028261",
            "user_variable_name": null,
            "variable_name": "unk_dataframe_ab10406349a2490a8b8f0afe8295fb93"
          },
          "1ff6a43a-43b1-4738-91ec-d4287dd9f257": {
            "applied_filters": [],
            "dataframe_info": {
              "default_index_used": false,
              "orig_num_cols": 1,
              "orig_num_rows": 11,
              "orig_size_bytes": 176,
              "truncated_num_cols": 1,
              "truncated_num_rows": 11,
              "truncated_size_bytes": 176,
              "truncated_string_columns": []
            },
            "display_id": "1ff6a43a-43b1-4738-91ec-d4287dd9f257",
            "dx_settings": {
              "ALLOW_NOTEABLE_ATTRS": true,
              "COLUMN_SAMPLING_METHOD": "outer",
              "DB_LOCATION": ":memory:",
              "DEV_MODE": false,
              "DISPLAY_MAX_COLUMNS": 100,
              "DISPLAY_MAX_ROWS": 50000,
              "DISPLAY_MODE": "simple",
              "ENABLE_ASSIGNMENT": true,
              "ENABLE_DATALINK": true,
              "FLATTEN_COLUMN_VALUES": true,
              "FLATTEN_INDEX_VALUES": false,
              "GENERATE_DEX_METADATA": false,
              "HTML_TABLE_SCHEMA": false,
              "LOG_LEVEL": 30,
              "MAX_RENDER_SIZE_BYTES": 104857600,
              "MAX_STRING_LENGTH": 250,
              "NUM_PAST_SAMPLES_TRACKED": 3,
              "RANDOM_STATE": 12648430,
              "RESET_INDEX_VALUES": false,
              "ROW_SAMPLING_METHOD": "random",
              "SAMPLING_FACTOR": 0.1,
              "SAMPLING_METHOD": "random",
              "STRINGIFY_COLUMN_VALUES": true,
              "STRINGIFY_INDEX_VALUES": false
            },
            "sample_history": [],
            "sampling_time": "2023-12-06T00:12:46.318895",
            "user_variable_name": null,
            "variable_name": "unk_dataframe_e7bcf1d4b596434bbccd61027564fe53"
          },
          "5cff70eb-4efa-431c-88ae-9ff9fcc8f58a": {
            "applied_filters": [],
            "dataframe_info": {
              "default_index_used": false,
              "orig_num_cols": 1,
              "orig_num_rows": 11,
              "orig_size_bytes": 176,
              "truncated_num_cols": 1,
              "truncated_num_rows": 11,
              "truncated_size_bytes": 176,
              "truncated_string_columns": []
            },
            "display_id": "5cff70eb-4efa-431c-88ae-9ff9fcc8f58a",
            "dx_settings": {
              "ALLOW_NOTEABLE_ATTRS": true,
              "COLUMN_SAMPLING_METHOD": "outer",
              "DB_LOCATION": ":memory:",
              "DEV_MODE": false,
              "DISPLAY_MAX_COLUMNS": 100,
              "DISPLAY_MAX_ROWS": 50000,
              "DISPLAY_MODE": "simple",
              "ENABLE_ASSIGNMENT": true,
              "ENABLE_DATALINK": true,
              "FLATTEN_COLUMN_VALUES": true,
              "FLATTEN_INDEX_VALUES": false,
              "GENERATE_DEX_METADATA": false,
              "HTML_TABLE_SCHEMA": false,
              "LOG_LEVEL": 30,
              "MAX_RENDER_SIZE_BYTES": 104857600,
              "MAX_STRING_LENGTH": 250,
              "NUM_PAST_SAMPLES_TRACKED": 3,
              "RANDOM_STATE": 12648430,
              "RESET_INDEX_VALUES": false,
              "ROW_SAMPLING_METHOD": "random",
              "SAMPLING_FACTOR": 0.1,
              "SAMPLING_METHOD": "random",
              "STRINGIFY_COLUMN_VALUES": true,
              "STRINGIFY_INDEX_VALUES": false
            },
            "sample_history": [],
            "sampling_time": "2023-12-11T21:45:41.014131",
            "user_variable_name": null,
            "variable_name": "unk_dataframe_6f6b7e4c74344e7a9af6beb95aaad6a6"
          },
          "a2cb936f-00eb-478d-8e77-72cbd21c312f": {
            "applied_filters": [],
            "dataframe_info": {
              "default_index_used": false,
              "orig_num_cols": 1,
              "orig_num_rows": 11,
              "orig_size_bytes": 176,
              "truncated_num_cols": 1,
              "truncated_num_rows": 11,
              "truncated_size_bytes": 176,
              "truncated_string_columns": []
            },
            "display_id": "a2cb936f-00eb-478d-8e77-72cbd21c312f",
            "dx_settings": {
              "ALLOW_NOTEABLE_ATTRS": true,
              "COLUMN_SAMPLING_METHOD": "outer",
              "DB_LOCATION": ":memory:",
              "DEV_MODE": false,
              "DISPLAY_MAX_COLUMNS": 100,
              "DISPLAY_MAX_ROWS": 50000,
              "DISPLAY_MODE": "simple",
              "ENABLE_ASSIGNMENT": true,
              "ENABLE_DATALINK": true,
              "FLATTEN_COLUMN_VALUES": true,
              "FLATTEN_INDEX_VALUES": false,
              "GENERATE_DEX_METADATA": false,
              "HTML_TABLE_SCHEMA": false,
              "LOG_LEVEL": 30,
              "MAX_RENDER_SIZE_BYTES": 104857600,
              "MAX_STRING_LENGTH": 250,
              "NUM_PAST_SAMPLES_TRACKED": 3,
              "RANDOM_STATE": 12648430,
              "RESET_INDEX_VALUES": false,
              "ROW_SAMPLING_METHOD": "random",
              "SAMPLING_FACTOR": 0.1,
              "SAMPLING_METHOD": "random",
              "STRINGIFY_COLUMN_VALUES": true,
              "STRINGIFY_INDEX_VALUES": false
            },
            "sample_history": [],
            "sampling_time": "2023-12-11T22:26:04.647254",
            "user_variable_name": null,
            "variable_name": "unk_dataframe_d25719b64d2c44c7b641d17d488b0f39"
          },
          "c4cfab61-7510-46df-8ea2-19713b7a89de": {
            "applied_filters": [],
            "dataframe_info": {
              "default_index_used": false,
              "orig_num_cols": 1,
              "orig_num_rows": 11,
              "orig_size_bytes": 176,
              "truncated_num_cols": 1,
              "truncated_num_rows": 11,
              "truncated_size_bytes": 176,
              "truncated_string_columns": []
            },
            "display_id": "c4cfab61-7510-46df-8ea2-19713b7a89de",
            "dx_settings": {
              "ALLOW_NOTEABLE_ATTRS": true,
              "COLUMN_SAMPLING_METHOD": "outer",
              "DB_LOCATION": ":memory:",
              "DEV_MODE": false,
              "DISPLAY_MAX_COLUMNS": 100,
              "DISPLAY_MAX_ROWS": 50000,
              "DISPLAY_MODE": "simple",
              "ENABLE_ASSIGNMENT": true,
              "ENABLE_DATALINK": true,
              "FLATTEN_COLUMN_VALUES": true,
              "FLATTEN_INDEX_VALUES": false,
              "GENERATE_DEX_METADATA": false,
              "HTML_TABLE_SCHEMA": false,
              "LOG_LEVEL": 30,
              "MAX_RENDER_SIZE_BYTES": 104857600,
              "MAX_STRING_LENGTH": 250,
              "NUM_PAST_SAMPLES_TRACKED": 3,
              "RANDOM_STATE": 12648430,
              "RESET_INDEX_VALUES": false,
              "ROW_SAMPLING_METHOD": "random",
              "SAMPLING_FACTOR": 0.1,
              "SAMPLING_METHOD": "random",
              "STRINGIFY_COLUMN_VALUES": true,
              "STRINGIFY_INDEX_VALUES": false
            },
            "sample_history": [],
            "sampling_time": "2023-12-11T21:48:14.573063",
            "user_variable_name": null,
            "variable_name": "unk_dataframe_4fda6b9004864f65bab626b9dfcd5a48"
          }
        },
        "jupyter": {
          "outputs_hidden": false,
          "source_hidden": false
        },
        "noteable": {
          "cell_type": "code"
        },
        "tags": [
          "show_line_numbers"
        ]
      },
      "outputs": [],
      "source": [
        "data.isnull().sum()"
      ]
    },
    {
      "cell_type": "code",
      "execution_count": null,
      "id": "6de96c1f-97b3-4a2d-bedb-736a5265e894",
      "metadata": {
        "ExecuteTime": {
          "end_time": "2023-12-11T22:26:18.709357+00:00",
          "start_time": "2023-12-11T22:26:11.871629+00:00"
        },
        "jupyter": {
          "outputs_hidden": false,
          "source_hidden": false
        },
        "noteable": {
          "cell_type": "code"
        },
        "tags": [
          "show_line_numbers"
        ]
      },
      "outputs": [],
      "source": [
        "R = 6371\n",
        "\n",
        "def deg_to_rad(degrees):\n",
        "    return degrees * (np.pi/180)\n",
        "\n",
        "def distcalculate(lat1, lon1, lat2, lon2):\n",
        "    d_lat = deg_to_rad(lat2 -lat1)\n",
        "    d_lon = deg_to_rad(lon2 - lon1)\n",
        "    a = np.sin(d_lat/2)**2 + np.cos(deg_to_rad(lat1)) * np.cos(deg_to_rad(lat2)) * np.sin(d_lon/2)**2\n",
        "    c = 2 * np.arctan2(np.sqrt(a), np.sqrt(1-a))\n",
        "    return R * c\n",
        "\n",
        "data['distance'] = np.nan\n",
        "\n",
        "for i in range(len(data)):\n",
        "    data.loc[i, 'distance'] = distcalculate(data.loc[i, 'Restaurant_latitude'], \n",
        "                                        data.loc[i, 'Restaurant_longitude'], \n",
        "                                        data.loc[i, 'Delivery_location_latitude'], \n",
        "                                        data.loc[i, 'Delivery_location_longitude'])"
      ]
    },
    {
      "cell_type": "code",
      "execution_count": null,
      "id": "48a41bd1-28d1-4e14-8b18-29ee3357a794",
      "metadata": {
        "ExecuteTime": {
          "end_time": "2023-12-11T22:26:18.871673+00:00",
          "start_time": "2023-12-11T22:26:18.715382+00:00"
        },
        "jupyter": {
          "outputs_hidden": false,
          "source_hidden": false
        },
        "noteable": {
          "cell_type": "code"
        },
        "tags": [
          "show_line_numbers"
        ]
      },
      "outputs": [],
      "source": [
        "print(data.head())"
      ]
    },
    {
      "cell_type": "markdown",
      "id": "b53f248a-a465-4d12-9e84-3bcbf6afa9fc",
      "metadata": {
        "noteable": {
          "cell_type": "markdown"
        },
        "tags": [
          "show_line_numbers"
        ]
      },
      "source": [
        "**Data Exploration**"
      ]
    },
    {
      "cell_type": "code",
      "execution_count": null,
      "id": "ff5313ea-1819-4396-8897-a2cc566ecf4a",
      "metadata": {
        "ExecuteTime": {
          "end_time": "2023-12-11T22:26:20.443998+00:00",
          "start_time": "2023-12-11T22:26:19.245169+00:00"
        },
        "noteable": {
          "cell_type": "python"
        },
        "tags": [
          "show_line_numbers"
        ]
      },
      "outputs": [],
      "source": [
        "figure = px.scatter(data_frame = data,\n",
        "                   x = \"distance\",\n",
        "                   y = \"Time_taken(min)\",\n",
        "                   size = \"Time_taken(min)\",\n",
        "                   trendline = \"ols\",\n",
        "                   title = \"Relationship Between Distance and Time Taken\")\n",
        "figure.show()"
      ]
    },
    {
      "cell_type": "code",
      "execution_count": null,
      "id": "989963e5-3ee4-4629-8322-beaedf0a2ce5",
      "metadata": {
        "ExecuteTime": {
          "end_time": "2023-12-11T21:48:26.962243+00:00",
          "start_time": "2023-12-11T21:48:26.188566+00:00"
        },
        "jupyter": {
          "outputs_hidden": false,
          "source_hidden": false
        },
        "noteable": {
          "cell_type": "code"
        },
        "tags": [
          "show_line_numbers"
        ]
      },
      "outputs": [],
      "source": [
        "figure = px.scatter(data_frame = data,\n",
        "                   x = \"Delivery_person_Age\",\n",
        "                   y= \"Time_taken(min)\",\n",
        "                   size = \"Time_taken(min)\",\n",
        "                   color = \"distance\",\n",
        "                   trendline = \"ols\",\n",
        "                   title = \"Relatiionship Between Time Taken and Age\")\n",
        "figure.show()"
      ]
    },
    {
      "cell_type": "code",
      "execution_count": null,
      "id": "00ec9e12-a93c-491a-a20d-d532423ed2ad",
      "metadata": {
        "ExecuteTime": {
          "end_time": "2023-12-11T21:48:31.048765+00:00",
          "start_time": "2023-12-11T21:48:30.132274+00:00"
        },
        "jupyter": {
          "outputs_hidden": false,
          "source_hidden": false
        },
        "noteable": {
          "cell_type": "code"
        },
        "tags": [
          "show_line_numbers"
        ]
      },
      "outputs": [],
      "source": [
        "figure = px.scatter(data_frame = data, \n",
        "                 x = \"Delivery_person_Ratings\",\n",
        "                 y = \"Time_taken(min)\",\n",
        "                 size = \"Time_taken(min)\",\n",
        "                 color = \"distance\",\n",
        "                 trendline = \"ols\",\n",
        "                 title = \"Relationship Between time Taken and Ratings\")\n",
        "figure.show()"
      ]
    },
    {
      "cell_type": "code",
      "execution_count": null,
      "id": "f112b1d3-f3b8-4ebd-af66-23bd2cdc6fa1",
      "metadata": {
        "ExecuteTime": {
          "end_time": "2023-12-11T21:48:34.477424+00:00",
          "start_time": "2023-12-11T21:48:34.151547+00:00"
        },
        "jupyter": {
          "outputs_hidden": false,
          "source_hidden": false
        },
        "noteable": {
          "cell_type": "code"
        },
        "tags": [
          "show_line_numbers"
        ]
      },
      "outputs": [],
      "source": [
        "fig = px.box(data,\n",
        "            x = \"Type_of_vehicle\",\n",
        "            y = \"Time_taken(min)\",\n",
        "            color = \"Type_of_order\")\n",
        "fig.show()"
      ]
    },
    {
      "cell_type": "markdown",
      "id": "6cbe2cf6-a007-4471-9724-b98cd4d3fdd2",
      "metadata": {
        "noteable": {
          "cell_type": "markdown"
        }
      },
      "source": [
        "**Food Delivery Time Prediction Model**"
      ]
    },
    {
      "cell_type": "code",
      "execution_count": null,
      "id": "0a9bf5d3-8fc3-43bd-ba4d-38a2f8968af5",
      "metadata": {
        "ExecuteTime": {
          "end_time": "2023-12-11T22:27:43.746118+00:00",
          "start_time": "2023-12-11T22:27:18.081761+00:00"
        },
        "jupyter": {
          "outputs_hidden": true,
          "source_hidden": false
        },
        "noteable": {
          "cell_type": "code"
        },
        "scrolled": false
      },
      "outputs": [],
      "source": [
        "!pip install tensorflow\n",
        "!pip install keras"
      ]
    },
    {
      "cell_type": "code",
      "execution_count": null,
      "id": "7baee03b-a406-47ea-a58e-4950e5c46cc2",
      "metadata": {
        "ExecuteTime": {
          "end_time": "2023-12-11T22:27:45.803367+00:00",
          "start_time": "2023-12-11T22:27:43.752155+00:00"
        },
        "noteable": {
          "cell_type": "python"
        }
      },
      "outputs": [],
      "source": [
        "from sklearn.model_selection import train_test_split\n",
        "x = np.array(data[[\"Delivery_person_Age\", \n",
        "                   \"Delivery_person_Ratings\", \n",
        "                   \"distance\"]])\n",
        "y = np.array(data[[\"Time_taken(min)\"]])\n",
        "xtrain, xtest, ytrain, ytest = train_test_split(x, y, \n",
        "                                                test_size=0.10, \n",
        "                                                random_state=42)\n",
        "\n",
        "# creating the LSTM neural network model\n",
        "from keras.models import Sequential\n",
        "from keras.layers import Dense, LSTM\n",
        "model = Sequential()\n",
        "model.add(LSTM(128, return_sequences=True, input_shape= (xtrain.shape[1], 1)))\n",
        "model.add(LSTM(64, return_sequences=False))\n",
        "model.add(Dense(25))\n",
        "model.add(Dense(1))\n",
        "model.summary()"
      ]
    },
    {
      "cell_type": "code",
      "execution_count": null,
      "id": "de2e99fd-9412-4106-86c4-3f0da61118bf",
      "metadata": {
        "ExecuteTime": {
          "end_time": "2023-12-11T22:29:09.962642+00:00",
          "start_time": "2023-12-11T22:28:57.125449+00:00"
        },
        "jupyter": {
          "outputs_hidden": true,
          "source_hidden": false
        },
        "noteable": {
          "cell_type": "code"
        },
        "scrolled": false
      },
      "outputs": [],
      "source": [
        "# training the model\n",
        "model.compile(optimizer='adam', loss='mean_squared_error')\n",
        "model.fit(xtrain, ytrain, batch_size=1, epochs=9)"
      ]
    },
    {
      "cell_type": "code",
      "execution_count": null,
      "id": "93e5fc9f-d2fd-41ae-a694-9392372481bf",
      "metadata": {
        "ExecuteTime": {
          "end_time": "2023-12-11T22:29:48.079139+00:00",
          "start_time": "2023-12-11T22:29:35.447793+00:00"
        },
        "jupyter": {
          "outputs_hidden": false,
          "source_hidden": false
        },
        "noteable": {
          "cell_type": "code"
        }
      },
      "outputs": [],
      "source": [
        "print(\"Food Delivery Time Prediction\")\n",
        "a = int(input(\"Age of Delivery Partner: \"))\n",
        "b = float(input(\"Ratings of Previous Deliveries: \"))\n",
        "c = int(input(\"Total Distance: \"))\n",
        "\n",
        "features = np.array([[a, b, c]])\n",
        "print(\"Predicted Delivery Time in Minutes = \", model.predict(features))"
      ]
    }
  ],
  "metadata": {
    "kernel_info": {
      "name": "python3"
    },
    "kernelspec": {
      "display_name": "Python 3.9",
      "identifier": "legacy",
      "language": "python",
      "language_version": "3.9",
      "name": "python3"
    },
    "noteable": {
      "last_delta_id": "7fdd14b0-06f8-4ece-ba03-cd1a33e99c15"
    },
    "nteract": {
      "version": "noteable@2.9.0"
    },
    "selected_hardware_size": "small"
  },
  "nbformat": 4,
  "nbformat_minor": 5
}
